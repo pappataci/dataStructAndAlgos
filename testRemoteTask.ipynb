{
 "cells": [
  {
   "cell_type": "code",
   "execution_count": 19,
   "id": "41fa735e",
   "metadata": {},
   "outputs": [],
   "source": [
    "s= \"https://api.example.com/resource6/resource21/\""
   ]
  },
  {
   "cell_type": "code",
   "execution_count": 21,
   "id": "9d8f33a9",
   "metadata": {},
   "outputs": [],
   "source": [
    "split_w = s.split('/')"
   ]
  },
  {
   "cell_type": "code",
   "execution_count": 23,
   "id": "57177156",
   "metadata": {},
   "outputs": [
    {
     "data": {
      "text/plain": [
       "['https:', '', 'api.example.com', 'resource6', 'resource21', '']"
      ]
     },
     "execution_count": 23,
     "metadata": {},
     "output_type": "execute_result"
    }
   ],
   "source": [
    "split_w"
   ]
  },
  {
   "cell_type": "code",
   "execution_count": 25,
   "id": "374290cf",
   "metadata": {},
   "outputs": [],
   "source": [
    "def is_resource(word):\n",
    "    length_res =len('resource')\n",
    "    if len(word) < length_res:\n",
    "        False\n",
    "    else:\n",
    "        return word[0:length_res] == 'resource'"
   ]
  },
  {
   "cell_type": "code",
   "execution_count": 31,
   "id": "a7d9046d",
   "metadata": {},
   "outputs": [],
   "source": [
    "for word in split_w:\n",
    "    if is_resource(word):\n",
    "        pass\n",
    "    else:\n",
    "        split_w.remove(word)"
   ]
  },
  {
   "cell_type": "code",
   "execution_count": 37,
   "id": "1056cce9",
   "metadata": {},
   "outputs": [],
   "source": [
    "a = {}\n",
    "a[2] =['1','3']\n",
    "a[1] = {'3', 5}"
   ]
  },
  {
   "cell_type": "code",
   "execution_count": 42,
   "id": "ff2ba658",
   "metadata": {},
   "outputs": [],
   "source": [
    "t = list(a.keys()) "
   ]
  },
  {
   "cell_type": "code",
   "execution_count": 46,
   "id": "07bf34aa",
   "metadata": {},
   "outputs": [
    {
     "data": {
      "text/plain": [
       "'t.sart()'"
      ]
     },
     "execution_count": 46,
     "metadata": {},
     "output_type": "execute_result"
    }
   ],
   "source": [
    "\"t.sort()\".replace('o' , 'a')"
   ]
  },
  {
   "cell_type": "code",
   "execution_count": 50,
   "id": "98f1e987",
   "metadata": {},
   "outputs": [
    {
     "data": {
      "text/plain": [
       "'tywer'"
      ]
     },
     "execution_count": 50,
     "metadata": {},
     "output_type": "execute_result"
    }
   ],
   "source": [
    "a = 'hwer'\n",
    "b = a.replace('h','ty')\n",
    "b"
   ]
  },
  {
   "cell_type": "code",
   "execution_count": 14,
   "id": "ab652952",
   "metadata": {},
   "outputs": [],
   "source": [
    "t = [\"resource951/resource115\", \"resource6/resource21\"  ]"
   ]
  },
  {
   "cell_type": "code",
   "execution_count": 15,
   "id": "3e5ee275",
   "metadata": {},
   "outputs": [],
   "source": [
    "t.sort()"
   ]
  },
  {
   "cell_type": "code",
   "execution_count": 58,
   "id": "a99d37a3",
   "metadata": {},
   "outputs": [],
   "source": [
    "def sum_consecutive_numbers_up_to(n):\n",
    "    return n * (n+1)/2\n",
    "\n",
    "def compute_triangle_sum(test_value, n_elements):\n",
    "    \n",
    "    triangle_sum = sum_consecutive_numbers_up_to(test_value)\n",
    "    \n",
    "    if n_elements >= test_value:\n",
    "        # now we have to sum the remaining ones if any\n",
    "        constant_sum = max(n_elements - test_value, 0)  # times 1\n",
    "        return triangle_sum + constant_sum\n",
    "        \n",
    "    else:\n",
    "        # we have to deduct the non-existent triangle\n",
    "        triangle_sum -= sum_consecutive_numbers_up_to(test_value - n_elements)       \n",
    "        \n",
    "    return triangle_sum\n",
    "\n",
    "def compute_sum(test_value, k, n):\n",
    "    left_sum = compute_triangle_sum(test_value, k)\n",
    "    right_sum = compute_triangle_sum(test_value - 1, n - k)\n",
    "    return left_sum + right_sum"
   ]
  },
  {
   "cell_type": "code",
   "execution_count": 82,
   "id": "04fb02be",
   "metadata": {},
   "outputs": [],
   "source": [
    "import numpy as np\n",
    "a = np.zeros(10)\n"
   ]
  },
  {
   "cell_type": "code",
   "execution_count": null,
   "id": "c9d16cc1",
   "metadata": {},
   "outputs": [],
   "source": []
  },
  {
   "cell_type": "code",
   "execution_count": 138,
   "id": "060f6dbd",
   "metadata": {},
   "outputs": [
    {
     "name": "stdout",
     "output_type": "stream",
     "text": [
      "1\n",
      "2\n",
      "6\n",
      "24\n",
      "120\n"
     ]
    }
   ],
   "source": [
    "def prod(a,b):\n",
    "    # TODO change output to the product of a and b\n",
    "    output = a * b\n",
    "    return output\n",
    "\n",
    "def fact_gen():\n",
    "    i = 1\n",
    "    n = i\n",
    "    while True:\n",
    "        output = prod(n, i)\n",
    "        yield output\n",
    "        i += 1\n",
    "        n = output\n",
    "        \n",
    "\n",
    "# Test cases\n",
    "my_gen = fact_gen()\n",
    "num = 5\n",
    "for i in range(num):\n",
    "    print(next(my_gen))\n"
   ]
  },
  {
   "cell_type": "code",
   "execution_count": 143,
   "id": "167d17ee",
   "metadata": {},
   "outputs": [
    {
     "data": {
      "text/plain": [
       "False"
      ]
     },
     "execution_count": 143,
     "metadata": {},
     "output_type": "execute_result"
    }
   ],
   "source": [
    "sum([1,2.3,3]) != 6.3"
   ]
  },
  {
   "cell_type": "code",
   "execution_count": null,
   "id": "ffa19378",
   "metadata": {},
   "outputs": [],
   "source": []
  },
  {
   "cell_type": "code",
   "execution_count": 136,
   "id": "f54c9635",
   "metadata": {},
   "outputs": [],
   "source": [
    "import numpy as np\n",
    "test = np.zeros((5,5))"
   ]
  },
  {
   "cell_type": "code",
   "execution_count": 152,
   "id": "319da5eb",
   "metadata": {},
   "outputs": [],
   "source": [
    "A= np.zeros((3,3)); A [0,0] = 3; A[2,2] = 1"
   ]
  },
  {
   "cell_type": "code",
   "execution_count": 155,
   "id": "509de7e2",
   "metadata": {},
   "outputs": [
    {
     "data": {
      "text/plain": [
       "array([3., 0., 1.])"
      ]
     },
     "execution_count": 155,
     "metadata": {},
     "output_type": "execute_result"
    }
   ],
   "source": [
    "sum(A)"
   ]
  },
  {
   "cell_type": "code",
   "execution_count": 234,
   "id": "ee60a264",
   "metadata": {},
   "outputs": [
    {
     "name": "stdout",
     "output_type": "stream",
     "text": [
      "True\n"
     ]
    }
   ],
   "source": [
    "import numpy as np\n",
    "\n",
    "def is_valid_number(a_num , n ):\n",
    "    if isinstance(a_num, (int, float, complex)):\n",
    "        is_non_neg = a_num >= 1\n",
    "        is_not_bigger_than_n = a_num <= n\n",
    "        return is_non_neg and is_not_bigger_than_n\n",
    "    \n",
    "    return False\n",
    "\n",
    "# Define a function check_sudoku() here:\n",
    "def check_sudoku(square):\n",
    "    n = len(square)\n",
    "    \n",
    "    isCorrect = True\n",
    "    iRow = 0\n",
    "    nColsChecker = np.zeros((n,n))\n",
    "    while isCorrect and iRow < n:\n",
    "        jCol = 0\n",
    "        nRowChecker = np.zeros(n)\n",
    "        \n",
    "        while isCorrect and jCol < n:\n",
    "            \n",
    "            current_number = square[iRow][jCol]\n",
    "            if is_valid_number(current_number, n):\n",
    "                \n",
    "                # not visited before\n",
    "                if nColsChecker[iRow][current_number - 1] == 0 and nRowChecker[current_number - 1] == 0:\n",
    "                    nColsChecker[iRow][current_number - 1] += 1\n",
    "                    nRowChecker[current_number - 1] += 1\n",
    "                \n",
    "                # last column: check if row is correct\n",
    "                if jCol == n - 1:\n",
    "                     \n",
    "                    if np.sum(nRowChecker) != n:\n",
    "                        isCorrect = False\n",
    "                    if (iRow == n - 1) and isCorrect:\n",
    "                        isCorrect = np.sum(nColsChecker) == n ** 2\n",
    "                jCol += 1\n",
    "                \n",
    "            else: \n",
    "                \n",
    "                isCorrect = False\n",
    "             \n",
    "        iRow += 1\n",
    "        \n",
    "            \n",
    "    return isCorrect\n",
    "    \n",
    "# Test cases\n",
    "correct = [[1,2,3],\n",
    "           [2,3,1],\n",
    "           [3,1,2]]\n",
    "incorrect = [[1,2,3,4],\n",
    "             [2,3,1,3],\n",
    "             [3,1,2,3],\n",
    "             [4,4,4,4]]\n",
    "incorrect2 = [[1,2,3,4],\n",
    "             [2,3,1,4],\n",
    "             [4,1,2,3],\n",
    "             [3,4,1,2]]\n",
    "incorrect3 = [[1,2,3,4,5],\n",
    "              [2,3,1,5,6],\n",
    "              [4,5,2,1,3],\n",
    "              [3,4,5,2,1],\n",
    "              [5,6,4,3,2]]\n",
    "incorrect4 = [['a','b','c'],\n",
    "              ['b','c','a'],\n",
    "              ['c','a','b']]\n",
    "incorrect5 = [ [1, 1.5],\n",
    "               [1.5, 1]]\n",
    "\n",
    "print(check_sudoku(incorrect2))  \n",
    "# print(check_sudoku(incorrect))\n",
    "# # #>>> False\n",
    "# print(check_sudoku(correct))\n",
    "# # #>>> True\n",
    "# print(check_sudoku(incorrect2))\n",
    "# # #>>> False\n",
    "# print(check_sudoku(incorrect3))\n",
    "# # #>>> False\n",
    "# print(check_sudoku(incorrect4))\n",
    "# # #>>> False\n",
    "# # print(check_sudoku(incorrect5))\n",
    "# # #>>> False"
   ]
  },
  {
   "cell_type": "code",
   "execution_count": 239,
   "id": "f0e16c79",
   "metadata": {},
   "outputs": [],
   "source": [
    "def nextDay(year, month, day):\n",
    "    \"\"\"Simple version: assume every month has 30 days\"\"\"\n",
    "    if day < 30:\n",
    "        return year, month, day + 1\n",
    "    else:\n",
    "        if month == 12:\n",
    "            return year + 1, 1, 1\n",
    "        else:\n",
    "            return year, month + 1, 1\n",
    "        \n",
    "        \n",
    "def difference_between(start_date, end_date):\n",
    "    \n",
    "    if start_date == end_date:\n",
    "        return 0\n",
    "    else:\n",
    "        # end_date is strictly later than start_date\n",
    "        time_diff = 0\n",
    "        current_day = start_date\n",
    "        while current_day != end_date:\n",
    "            current_day = nextDay(*current_day)\n",
    "            time_diff += 1\n",
    "        return time_diff\n",
    "        \n",
    "def daysBetweenDates(year1, month1, day1, year2, month2, day2):\n",
    "    \"\"\"Returns the number of days between year1/month1/day1\n",
    "       and year2/month2/day2. Assumes inputs are valid dates\n",
    "       in Gregorian calendar, and the first date is not after\n",
    "       the second.\"\"\"\n",
    "    \n",
    "    start_date = (year1, month1, day1)\n",
    "    end_date = (year2, month2, day2)\n",
    "    \n",
    "    # YOUR CODE HERE!\n",
    "    return difference_between(start_date, end_date)"
   ]
  },
  {
   "cell_type": "code",
   "execution_count": 240,
   "id": "672b3e93",
   "metadata": {},
   "outputs": [],
   "source": [
    "test_1 = daysBetweenDates(2012,9,30,2012,10,30)"
   ]
  },
  {
   "cell_type": "code",
   "execution_count": 251,
   "id": "955e9cba",
   "metadata": {},
   "outputs": [],
   "source": [
    "def is_leap_year(year):\n",
    "    \n",
    "    if year % 400 == 0: \n",
    "        return True\n",
    "\n",
    "    if year % 100 == 0: \n",
    "        return False\n",
    "\n",
    "    if year % 4 == 0: \n",
    "        return True\n",
    "    \n",
    "    return False\n",
    "\n",
    "\n",
    "def last_day_of_the_month(year, month,day):\n",
    "    if month in [1, 3, 5, 7, 8, 10, 12]:\n",
    "        return 31\n",
    "    if month == 2:\n",
    "        leap_year = int(is_leap_year(year))\n",
    "        return 28 + leap_year\n",
    "    return 30\n",
    "\n",
    "def nextDay(year, month, day):\n",
    "    \"\"\"Simple version: assume every month has 30 days\"\"\"\n",
    "    if day < last_day_of_the_month(year, month,day):\n",
    "        return year, month, day + 1\n",
    "    else:\n",
    "        if month == 12:\n",
    "            return year + 1, 1, 1\n",
    "        else:\n",
    "            return year, month + 1, 1\n",
    "        \n",
    "def dateIsBefore(year1, month1, day1, year2, month2, day2):\n",
    "    \"\"\"Returns True if year1-month1-day1 is before\n",
    "       year2-month2-day2. Otherwise, returns False.\"\"\"\n",
    "    if year1 < year2:\n",
    "        return True\n",
    "    if year1 == year2:\n",
    "        if month1 < month2:\n",
    "            return True\n",
    "        if month1 == month2:\n",
    "            return day1 < day2\n",
    "    return False    \n",
    "\n",
    "def daysBetweenDates(year1, month1, day1, year2, month2, day2):\n",
    "    \"\"\"Returns the number of days between year1/month1/day1\n",
    "       and year2/month2/day2. Assumes inputs are valid dates\n",
    "       in Gregorian calendar.\"\"\"\n",
    "       \n",
    "    # Throw an AssertionError if the input is not valid\n",
    "    assert not dateIsBefore(year2, month2, day2, year1, month1, day1)\n",
    "    \n",
    "    days = 0\n",
    "    while dateIsBefore(year1, month1, day1, year2, month2, day2):\n",
    "        year1, month1, day1 = nextDay(year1, month1, day1)\n",
    "        days += 1\n",
    "    return days\n",
    "\n",
    "# Testing code -- do not change\n",
    "def codeTest(year1, month1, day1, year2, month2, day2, answer):\n",
    "    try:\n",
    "        result = daysBetweenDates(year1, month1, day1, year2, month2, day2)\n",
    "        if result == answer and answer != \"AssertionError\":\n",
    "            return \"correct\"\n",
    "        else: \n",
    "            return \"incorrect\"\n",
    "    \n",
    "    except AssertionError:\n",
    "        if answer == \"AssertionError\":\n",
    "            return \"correct AssertionError\"\n",
    "        else:\n",
    "            return \"incorrect AssertionError\"\n",
    "           "
   ]
  },
  {
   "cell_type": "code",
   "execution_count": 248,
   "id": "84235579",
   "metadata": {},
   "outputs": [],
   "source": [
    "test_1 = codeTest(2012,1,1,2012,2,28,58)"
   ]
  },
  {
   "cell_type": "code",
   "execution_count": 257,
   "id": "af5e1026",
   "metadata": {},
   "outputs": [
    {
     "data": {
      "text/plain": [
       "True"
      ]
     },
     "execution_count": 257,
     "metadata": {},
     "output_type": "execute_result"
    }
   ],
   "source": [
    "is_leap_year(2000)"
   ]
  }
 ],
 "metadata": {
  "kernelspec": {
   "display_name": "Python 3 (ipykernel)",
   "language": "python",
   "name": "python3"
  },
  "language_info": {
   "codemirror_mode": {
    "name": "ipython",
    "version": 3
   },
   "file_extension": ".py",
   "mimetype": "text/x-python",
   "name": "python",
   "nbconvert_exporter": "python",
   "pygments_lexer": "ipython3",
   "version": "3.8.17"
  }
 },
 "nbformat": 4,
 "nbformat_minor": 5
}
