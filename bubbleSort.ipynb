{
 "cells": [
  {
   "cell_type": "code",
   "execution_count": 37,
   "id": "5a988505",
   "metadata": {},
   "outputs": [],
   "source": [
    "def bubbleSort(nums):\n",
    "    \n",
    "    orderedItem = 0 \n",
    "    \n",
    "    while orderedItem < len(nums):\n",
    "        \n",
    "        for index in range(0, len(nums) - orderedItem - 1  ):\n",
    "            if nums[index] > nums[index+1]:\n",
    "                nums[index] , nums[index+1] = nums[index+1] , nums[index]\n",
    "                 \n",
    "        orderedItem += 1 \n",
    "        \n",
    "    return nums\n",
    "\n"
   ]
  },
  {
   "cell_type": "code",
   "execution_count": 100,
   "id": "06070c76",
   "metadata": {},
   "outputs": [],
   "source": [
    "def arg_min(nums):\n",
    "    min_index = 0\n",
    "    min_value = nums[min_index]\n",
    "    for current_index, current_value in enumerate(nums):\n",
    "        if current_value < min_value:\n",
    "            min_value = current_value\n",
    "            min_index = current_index\n",
    "    return min_index"
   ]
  },
  {
   "cell_type": "code",
   "execution_count": 101,
   "id": "b5f7501c",
   "metadata": {},
   "outputs": [],
   "source": [
    "def selection_sort(nums):\n",
    "    for init_index in range(0, len(nums)):\n",
    "        index_min_value = arg_min(nums[init_index : len(nums) ]) + init_index         \n",
    "        nums[init_index] , nums[index_min_value] = nums[index_min_value] , nums[init_index]\n",
    "    return nums"
   ]
  },
  {
   "cell_type": "code",
   "execution_count": 110,
   "id": "2faa7259",
   "metadata": {},
   "outputs": [],
   "source": [
    "def merge(num1, num2):\n",
    "    \n",
    "    resulting_list = []\n",
    "    left = right = 0\n",
    "    \n",
    "    resulting_list_length = len(num1) + len(num2)\n",
    "    \n",
    "    for _ in range(0, resulting_list_length ):\n",
    "        \n",
    "        if left < len(num1) and right< len(num2):\n",
    "            if num1[left] < num2[right]:\n",
    "                resulting_list.append(num1[left])\n",
    "                left += 1\n",
    "            else:\n",
    "                resulting_list.append(num2[right])\n",
    "                right += 1\n",
    "        else:\n",
    "            if left == len(num1):\n",
    "                resulting_list.append(num2[right])\n",
    "                right += 1\n",
    "            else:\n",
    "                resulting_list.append(num1[left])\n",
    "                left += 1\n",
    "                \n",
    "    return resulting_list"
   ]
  },
  {
   "cell_type": "code",
   "execution_count": 131,
   "id": "19808a21",
   "metadata": {},
   "outputs": [],
   "source": [
    "def merge_sort(my_list):\n",
    "    if len(my_list) == 1:\n",
    "        return my_list\n",
    "    mid_index = int(len(my_list)/2)\n",
    "    left_list = merge_sort(my_list[:mid_index])\n",
    "    right_list = merge_sort(my_list[mid_index:])\n",
    "    return merge(left_list, right_list)\n",
    "    "
   ]
  },
  {
   "cell_type": "code",
   "execution_count": 136,
   "id": "45b7b767",
   "metadata": {},
   "outputs": [
    {
     "data": {
      "text/plain": [
       "[-1, 1, 2, 3]"
      ]
     },
     "execution_count": 136,
     "metadata": {},
     "output_type": "execute_result"
    }
   ],
   "source": [
    "original_list = [1,2,-1,3]\n",
    "merge_sort(original_list)\n"
   ]
  },
  {
   "cell_type": "code",
   "execution_count": 138,
   "id": "860fefe4",
   "metadata": {},
   "outputs": [
    {
     "ename": "SyntaxError",
     "evalue": "invalid syntax (4273817207.py, line 3)",
     "output_type": "error",
     "traceback": [
      "\u001b[0;36m  Cell \u001b[0;32mIn[138], line 3\u001b[0;36m\u001b[0m\n\u001b[0;31m    for i in range(1,len(nums))\u001b[0m\n\u001b[0m                               ^\u001b[0m\n\u001b[0;31mSyntaxError\u001b[0m\u001b[0;31m:\u001b[0m invalid syntax\n"
     ]
    }
   ],
   "source": [
    "def pivot(nums):\n",
    "    pivot = swap = 0\n",
    "    pivot_value = nums[0]\n",
    "    for i in range(1,len(nums)):\n",
    "        if nums[i] < pivot_value:\n",
    "            nums[swap+1] , nums[i] = nums[i] , nums[swap+1]\n",
    "            swap += 1\n",
    "        else:\n",
    "            "
   ]
  },
  {
   "cell_type": "code",
   "execution_count": 207,
   "id": "2e5a33d9",
   "metadata": {},
   "outputs": [],
   "source": [
    "def brute(n, start = 0 ):\n",
    "    \n",
    "    sum = 0\n",
    "    for i in range(start, n):\n",
    "        if (i % 3 == 0) or (i % 5 == 0):\n",
    "            sum += i\n",
    "             \n",
    "            \n",
    "    return sum"
   ]
  },
  {
   "cell_type": "code",
   "execution_count": 168,
   "id": "650e8f7e",
   "metadata": {},
   "outputs": [
    {
     "data": {
      "text/plain": [
       "23"
      ]
     },
     "execution_count": 168,
     "metadata": {},
     "output_type": "execute_result"
    }
   ],
   "source": []
  }
 ],
 "metadata": {
  "kernelspec": {
   "display_name": "Python 3 (ipykernel)",
   "language": "python",
   "name": "python3"
  },
  "language_info": {
   "codemirror_mode": {
    "name": "ipython",
    "version": 3
   },
   "file_extension": ".py",
   "mimetype": "text/x-python",
   "name": "python",
   "nbconvert_exporter": "python",
   "pygments_lexer": "ipython3",
   "version": "3.8.17"
  }
 },
 "nbformat": 4,
 "nbformat_minor": 5
}
