{
 "cells": [
  {
   "cell_type": "code",
   "execution_count": 4,
   "id": "80bf1baf",
   "metadata": {},
   "outputs": [],
   "source": [
    "src = r'Exercise_Files/'"
   ]
  },
  {
   "cell_type": "code",
   "execution_count": 18,
   "id": "2285d9b5",
   "metadata": {},
   "outputs": [],
   "source": [
    "import sys  \n",
    "sys.path.insert(0, r'Exercise_Files/03_03_begin/')\n"
   ]
  },
  {
   "cell_type": "code",
   "execution_count": 35,
   "id": "fd398c10",
   "metadata": {},
   "outputs": [],
   "source": [
    "from read_maze import read_maze\n",
    "\n",
    "file_name = r'Exercise_Files/03_03_begin/mazes/challenge_maze.txt'"
   ]
  },
  {
   "cell_type": "code",
   "execution_count": 27,
   "id": "158a2e6a",
   "metadata": {},
   "outputs": [],
   "source": [
    "from os import path"
   ]
  },
  {
   "cell_type": "code",
   "execution_count": 37,
   "id": "d5e4a74a",
   "metadata": {},
   "outputs": [
    {
     "data": {
      "text/plain": [
       "True"
      ]
     },
     "execution_count": 37,
     "metadata": {},
     "output_type": "execute_result"
    }
   ],
   "source": [
    "path.isfile(file_name)"
   ]
  },
  {
   "cell_type": "code",
   "execution_count": 40,
   "id": "30c4361f",
   "metadata": {},
   "outputs": [],
   "source": [
    "read_file = read_maze(file_name)"
   ]
  },
  {
   "cell_type": "code",
   "execution_count": 41,
   "id": "f26fcae8",
   "metadata": {},
   "outputs": [
    {
     "name": "stdout",
     "output_type": "stream",
     "text": [
      "[' ', ' ', '*', ' ']\n",
      "[' ', ' ', ' ', ' ']\n",
      "[' ', '*', ' ', '*']\n",
      "[' ', ' ', ' ', ' ']\n"
     ]
    },
    {
     "data": {
      "text/plain": [
       "[None, None, None, None]"
      ]
     },
     "execution_count": 41,
     "metadata": {},
     "output_type": "execute_result"
    }
   ],
   "source": [
    "[print(r) for r in read_file]"
   ]
  }
 ],
 "metadata": {
  "kernelspec": {
   "display_name": "Python 3 (ipykernel)",
   "language": "python",
   "name": "python3"
  },
  "language_info": {
   "codemirror_mode": {
    "name": "ipython",
    "version": 3
   },
   "file_extension": ".py",
   "mimetype": "text/x-python",
   "name": "python",
   "nbconvert_exporter": "python",
   "pygments_lexer": "ipython3",
   "version": "3.8.17"
  }
 },
 "nbformat": 4,
 "nbformat_minor": 5
}
