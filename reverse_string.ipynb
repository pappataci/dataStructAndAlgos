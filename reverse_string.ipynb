{
 "cells": [
  {
   "cell_type": "code",
   "execution_count": 13,
   "id": "d864669d",
   "metadata": {},
   "outputs": [],
   "source": [
    "import stack"
   ]
  },
  {
   "cell_type": "code",
   "execution_count": 28,
   "id": "11eb4bb6",
   "metadata": {},
   "outputs": [],
   "source": [
    "\"\"\"\n",
    "Python Data Structures - A Game-Based Approach\n",
    "Stack challenge\n",
    "Robin Andrews - https://compucademy.net/\n",
    "\"\"\"\n",
    "\n",
    "import stack\n",
    "\n",
    "string = \"gninraeL nIdekniL htiw tol a nraeL\"\n",
    "reversed_string = \"\"\n",
    "s = stack.Stack()\n",
    "\n",
    "def reverse_string(s:Stack, init_string):\n",
    "    [s.push(item) for item in init_string]\n",
    "    reversed = \"\"\n",
    "    while not s.is_empty():\n",
    "        reversed += s.pop()\n",
    "        \n",
    "    return reversed\n",
    "        \n",
    "        "
   ]
  },
  {
   "cell_type": "code",
   "execution_count": 29,
   "id": "8a1d4902",
   "metadata": {},
   "outputs": [
    {
     "data": {
      "text/plain": [
       "'Learn a lot with LinkedIn Learning'"
      ]
     },
     "execution_count": 29,
     "metadata": {},
     "output_type": "execute_result"
    }
   ],
   "source": [
    "reverse_string(s, string)"
   ]
  }
 ],
 "metadata": {
  "kernelspec": {
   "display_name": "Python 3 (ipykernel)",
   "language": "python",
   "name": "python3"
  },
  "language_info": {
   "codemirror_mode": {
    "name": "ipython",
    "version": 3
   },
   "file_extension": ".py",
   "mimetype": "text/x-python",
   "name": "python",
   "nbconvert_exporter": "python",
   "pygments_lexer": "ipython3",
   "version": "3.8.17"
  }
 },
 "nbformat": 4,
 "nbformat_minor": 5
}
